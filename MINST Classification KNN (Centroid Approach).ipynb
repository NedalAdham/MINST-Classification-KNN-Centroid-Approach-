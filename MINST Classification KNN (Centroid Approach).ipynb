{
 "cells": [
  {
   "cell_type": "markdown",
   "metadata": {},
   "source": [
    "# MINST Classification KNN (Centroid Approach)"
   ]
  },
  {
   "cell_type": "markdown",
   "metadata": {},
   "source": [
    "- this notebook will use MINST dataset of handwritten digIts from one to 9 \n",
    "- we will use only 10000 data-point for training and 1000 data-point for test as asked"
   ]
  },
  {
   "cell_type": "markdown",
   "metadata": {},
   "source": [
    "#### Essintial imports "
   ]
  },
  {
   "cell_type": "code",
   "execution_count": 1,
   "metadata": {},
   "outputs": [
    {
     "name": "stdout",
     "output_type": "stream",
     "text": [
      "1.15.0\n",
      "2.2.4-tf\n"
     ]
    }
   ],
   "source": [
    "import tensorflow as tf\n",
    "from tensorflow import keras \n",
    "import numpy as np\n",
    "%matplotlib inline\n",
    "\n",
    "from sklearn.neighbors import KNeighborsClassifier\n",
    "from sklearn.metrics import accuracy_score\n",
    "import matplotlib.pyplot as plt\n",
    "print(tf.__version__)\n",
    "print(keras.__version__)\n"
   ]
  },
  {
   "cell_type": "markdown",
   "metadata": {},
   "source": [
    "#### importing preprocessed data from keras  "
   ]
  },
  {
   "cell_type": "code",
   "execution_count": 2,
   "metadata": {},
   "outputs": [
    {
     "name": "stderr",
     "output_type": "stream",
     "text": [
      "Using TensorFlow backend.\n"
     ]
    }
   ],
   "source": [
    "from keras.datasets import mnist \n",
    "(xtrain , y_train) , (xtest,y_test) = mnist.load_data()"
   ]
  },
  {
   "cell_type": "code",
   "execution_count": 3,
   "metadata": {},
   "outputs": [
    {
     "name": "stdout",
     "output_type": "stream",
     "text": [
      "Train samples: (60000, 28, 28) (60000,)\n",
      "Test samples: (10000, 28, 28) (10000,)\n"
     ]
    }
   ],
   "source": [
    "print(\"Train samples:\", xtrain.shape, y_train.shape)\n",
    "print(\"Test samples:\", xtest.shape, y_test.shape)"
   ]
  },
  {
   "cell_type": "markdown",
   "metadata": {},
   "source": [
    "##### taking small portion as asked "
   ]
  },
  {
   "cell_type": "code",
   "execution_count": 4,
   "metadata": {},
   "outputs": [],
   "source": [
    "xtrain=xtrain[50000:]\n",
    "y_train=y_train[50000:]\n",
    "xtest=xtest[9000:]\n",
    "y_test=y_test[9000:]"
   ]
  },
  {
   "cell_type": "code",
   "execution_count": 5,
   "metadata": {
    "scrolled": true
   },
   "outputs": [
    {
     "name": "stdout",
     "output_type": "stream",
     "text": [
      "Train samples: (10000, 28, 28) (10000,)\n",
      "Test samples: (1000, 28, 28) (1000,)\n"
     ]
    }
   ],
   "source": [
    "print(\"Train samples:\", xtrain.shape, y_train.shape)\n",
    "print(\"Test samples:\", xtest.shape, y_test.shape)"
   ]
  },
  {
   "cell_type": "markdown",
   "metadata": {},
   "source": [
    "##### plotting digits in grey scale just for illustration "
   ]
  },
  {
   "cell_type": "code",
   "execution_count": 17,
   "metadata": {
    "scrolled": true
   },
   "outputs": [
    {
     "name": "stdout",
     "output_type": "stream",
     "text": [
      "7\n",
      "7\n",
      "2\n",
      "1\n",
      "8\n",
      "4\n",
      "5\n",
      "3\n",
      "5\n",
      "5\n"
     ]
    },
    {
     "data": {
      "image/png": "[encoded data removed]",
      "text/plain": [
       "<Figure size 720x360 with 10 Axes>"
      ]
     },
     "metadata": {
      "needs_background": "light"
     },
     "output_type": "display_data"
    }
   ],
   "source": [
    "cols = 5\n",
    "rows = 2\n",
    "fig = plt.figure(figsize=(2 * cols , 3 * rows - 1))\n",
    "for i in range(cols):\n",
    "    for j in range(rows):\n",
    "        random_index = np.random.randint(0, 1000)\n",
    "        ax = fig.add_subplot(rows, cols, i * rows + j + 1)\n",
    "        ax.grid('off')\n",
    "        ax.axis('off')\n",
    "        ax.imshow(xtrain[random_index, :] ,cmap='gray')\n",
    "        print(y_train[random_index])\n",
    "        \n",
    "plt.show()"
   ]
  },
  {
   "cell_type": "markdown",
   "metadata": {},
   "source": [
    "#### Imaged_grid is function that slice the photo into certain amount of grids "
   ]
  },
  {
   "cell_type": "code",
   "execution_count": 27,
   "metadata": {},
   "outputs": [],
   "source": [
    "def imaged_grid(img , row , col ):\n",
    "    x , y = img.shape\n",
    "    return (img.reshape ( x //row, row, -1, col).swapaxes(1,2).reshape(-1, row, col))"
   ]
  },
  {
   "cell_type": "code",
   "execution_count": 28,
   "metadata": {},
   "outputs": [
    {
     "name": "stdout",
     "output_type": "stream",
     "text": [
      "(16, 7, 7)\n"
     ]
    },
    {
     "data": {
      "text/plain": [
       "array([[[  0,   0,   0,   0,   0,   0,   0],\n",
       "        [  0,   0,   0,   0,   0,   0,   0],\n",
       "        [  0,   0,   0,   0,   0,   0,   0],\n",
       "        [  0,   0,   0,   0,   0,   0,   0],\n",
       "        [  0,   0,   0,   0,   0,   0,   0],\n",
       "        [  0,   0,   0,   0,   0,   0,   0],\n",
       "        [  0,   0,   0,   0,   0,   0,   0]],\n",
       "\n",
       "       [[  0,   0,   0,   0,   0,   0,   0],\n",
       "        [  0,   0,   0,   0,   0,   0,   0],\n",
       "        [  0,   0,   0,   0,   0,   0,   0],\n",
       "        [  0,   0,   0,   0,   0,   0,   0],\n",
       "        [  0,   0,   0,   0,   0,   0,   0],\n",
       "        [  0,   0,   0,   0,   0,   0,   0],\n",
       "        [  0,   0,   0,   0,   0,   0,   0]],\n",
       "\n",
       "       [[  0,   0,   0,   0,   0,   0,   0],\n",
       "        [  0,   0,   0,   0,   0,   0,   0],\n",
       "        [  0,   0,   0,   0,   0,   0,   0],\n",
       "        [  0,   0,   0,   0,   0,   0,   0],\n",
       "        [  0,   0,   0,   0,   0,   0,   0],\n",
       "        [  0,   0,   0,   0,  17,  80, 104],\n",
       "        [  0,   0,   0,   0,  53, 253, 253]],\n",
       "\n",
       "       [[  0,   0,   0,   0,   0,   0,   0],\n",
       "        [  0,   0,   0,   0,   0,   0,   0],\n",
       "        [  0,   0,   0,   0,   0,   0,   0],\n",
       "        [  0,   0,   0,   0,   0,   0,   0],\n",
       "        [  0,   0,   0,   0,   0,   0,   0],\n",
       "        [255, 242,  49,   0,   0,   0,   0],\n",
       "        [253, 253, 156,   0,   0,   0,   0]],\n",
       "\n",
       "       [[  0,   0,   0,   0,   0,   0,   0],\n",
       "        [  0,   0,   0,   0,   0,   0,   0],\n",
       "        [  0,   0,   0,   0,   0,   0,   0],\n",
       "        [  0,   0,   0,   0,   0,   0,   0],\n",
       "        [  0,   0,   0,   0,   0,   0,   0],\n",
       "        [  0,   0,   0,   0,   0,   0,   0],\n",
       "        [  0,   0,   0,   0,   0,   0,   0]],\n",
       "\n",
       "       [[  0,   0,   0,   0,   0,   0,   0],\n",
       "        [  0,   0,   0,   0,   0,   0,   0],\n",
       "        [  0,   0,   0,   0,   0,   0,   0],\n",
       "        [  0,   0,   0,   0,   0,   0,   0],\n",
       "        [  0,   0,   0,   0,   0,   0,   1],\n",
       "        [  0,   0,   0,   0,   0,  44, 111],\n",
       "        [  0,   0,   0,   0,   1, 111, 253]],\n",
       "\n",
       "       [[  0,   0,   0,  37, 223, 253, 253],\n",
       "        [  0,   0,  40, 207, 253, 253, 253],\n",
       "        [  0,  30, 224, 253, 253, 253, 253],\n",
       "        [ 43, 208, 253, 253, 253, 253, 236],\n",
       "        [106, 253, 253, 253, 253, 239,  74],\n",
       "        [253, 253, 253, 253, 231,  71,   0],\n",
       "        [253, 253, 253, 248,  72,   0,   0]],\n",
       "\n",
       "       [[253, 248, 119,   0,   0,   0,   0],\n",
       "        [253, 137,   0,   0,   0,   0,   0],\n",
       "        [233,  50,   0,   0,   0,   0,   0],\n",
       "        [ 72,   0,   0,   0,   0,   0,   0],\n",
       "        [  0,   0,   0,   0,   0,   0,   0],\n",
       "        [  0,   0,   0,   0,   0,   0,   0],\n",
       "        [  0,   0,   0,   0,   0,   0,   0]],\n",
       "\n",
       "       [[  0,   0,   0,   0,   0,   0,   0],\n",
       "        [  0,   0,   0,   0,   0,   0,   0],\n",
       "        [  0,   0,   0,   0,   0,   0,   0],\n",
       "        [  0,   0,   0,   0,   0,   0,   0],\n",
       "        [  0,   0,   0,   0,   0,   0,   0],\n",
       "        [  0,   0,   0,   0,   0,   0,   0],\n",
       "        [  0,   0,   0,   0,   0,   0,   0]],\n",
       "\n",
       "       [[  0,   0,   0,   0,  88, 253, 253],\n",
       "        [  0,   0,   0,  82, 235, 253, 253],\n",
       "        [  0,   0,  13, 159, 253, 253, 253],\n",
       "        [  0,  84, 167, 253, 253, 253, 248],\n",
       "        [  0, 140, 253, 253, 253, 253, 207],\n",
       "        [  0, 140, 253, 253, 253, 198,  33],\n",
       "        [197, 234, 253, 253, 231,  25,   0]],\n",
       "\n",
       "       [[253, 253, 228,  68,   0,   0,   0],\n",
       "        [253, 253, 182,   0,   0,   0,   0],\n",
       "        [228,  67,   6,   0,   0,   0,   0],\n",
       "        [ 68,   0,   0,   0,   0,   0,   0],\n",
       "        [  0,   0,   0,   0,   0,   0,   0],\n",
       "        [  0,   0,   0,   0,   0,   0,   0],\n",
       "        [  0,   0,   0,   0,   0,   0,   0]],\n",
       "\n",
       "       [[  0,   0,   0,   0,   0,   0,   0],\n",
       "        [  0,   0,   0,   0,   0,   0,   0],\n",
       "        [  0,   0,   0,   0,   0,   0,   0],\n",
       "        [  0,   0,   0,   0,   0,   0,   0],\n",
       "        [  0,   0,   0,   0,   0,   0,   0],\n",
       "        [  0,   0,   0,   0,   0,   0,   0],\n",
       "        [  0,   0,   0,   0,   0,   0,   0]],\n",
       "\n",
       "       [[  0,   0,   0,   0,   0,   0,   0],\n",
       "        [  0,   0,   0,   0,   0,   6, 128],\n",
       "        [  0,   0,   0,   0,   0,  80, 253],\n",
       "        [  0,   0,   0,   0,   0,  25, 187],\n",
       "        [  0,   0,   0,   0,   0,   0,   0],\n",
       "        [  0,   0,   0,   0,   0,   0,   0],\n",
       "        [  0,   0,   0,   0,   0,   0,   0]],\n",
       "\n",
       "       [[237, 253, 253, 197, 125,   0,   0],\n",
       "        [249, 253, 250, 122,   0,   0,   0],\n",
       "        [253, 253, 142,   0,   0,   0,   0],\n",
       "        [253, 253,  34,   0,   0,   0,   0],\n",
       "        [  0,   0,   0,   0,   0,   0,   0],\n",
       "        [  0,   0,   0,   0,   0,   0,   0],\n",
       "        [  0,   0,   0,   0,   0,   0,   0]],\n",
       "\n",
       "       [[  0,   0,   0,   0,   0,   0,   0],\n",
       "        [  0,   0,   0,   0,   0,   0,   0],\n",
       "        [  0,   0,   0,   0,   0,   0,   0],\n",
       "        [  0,   0,   0,   0,   0,   0,   0],\n",
       "        [  0,   0,   0,   0,   0,   0,   0],\n",
       "        [  0,   0,   0,   0,   0,   0,   0],\n",
       "        [  0,   0,   0,   0,   0,   0,   0]],\n",
       "\n",
       "       [[  0,   0,   0,   0,   0,   0,   0],\n",
       "        [  0,   0,   0,   0,   0,   0,   0],\n",
       "        [  0,   0,   0,   0,   0,   0,   0],\n",
       "        [  0,   0,   0,   0,   0,   0,   0],\n",
       "        [  0,   0,   0,   0,   0,   0,   0],\n",
       "        [  0,   0,   0,   0,   0,   0,   0],\n",
       "        [  0,   0,   0,   0,   0,   0,   0]]], dtype=uint8)"
      ]
     },
     "execution_count": 28,
     "metadata": {},
     "output_type": "execute_result"
    },
    {
     "data": {
      "image/png": "[encoded data removed]",
      "text/plain": [
       "<Figure size 144x144 with 1 Axes>"
      ]
     },
     "metadata": {
      "needs_background": "light"
     },
     "output_type": "display_data"
    }
   ],
   "source": [
    "fig = plt.figure(figsize=(2  , 2))\n",
    "ax = fig.add_subplot(1, 1, 1)\n",
    "ax.imshow(xtest[8] ,cmap='gray')\n",
    "print(imaged_grid(xtest[4] , 7, 7 ).shape)\n",
    "imaged_grid(xtest[5] , 7 , 7 )"
   ]
  },
  {
   "cell_type": "markdown",
   "metadata": {},
   "source": [
    "\n",
    "\n",
    "\n",
    "#### Get the centroid (centet of mass of grey scale) of each slice (grid) made"
   ]
  },
  {
   "cell_type": "code",
   "execution_count": 74,
   "metadata": {},
   "outputs": [],
   "source": [
    "def get_centroid(img):\n",
    "    feature = []\n",
    "    for grid in imaged_grid(img , 7 , 7 ) :\n",
    "        X = 0 \n",
    "        Y = 0 \n",
    "        s = 0\n",
    "        for index, bit in np.ndenumerate(grid):\n",
    "          s+= bit\n",
    "          X += bit * index[0]\n",
    "          Y += bit * index[1]  \n",
    "        if s != 0 :\n",
    "            feature.append( X/ s )\n",
    "            feature.append(Y/ s )\n",
    "        else :\n",
    "             feature.append(0)\n",
    "             feature.append(0)\n",
    "    return np.array(feature)"
   ]
  },
  {
   "cell_type": "markdown",
   "metadata": {},
   "source": [
    "\n",
    "#### extracting train and test features using previous funcution "
   ]
  },
  {
   "cell_type": "code",
   "execution_count": 75,
   "metadata": {},
   "outputs": [
    {
     "name": "stdout",
     "output_type": "stream",
     "text": [
      "test feature size =>(10000, 32)\n",
      "test feature size =>(1000, 32)\n"
     ]
    }
   ],
   "source": [
    "trainf = [get_centroid(img)  for img in xtrain  ]\n",
    "trainf = np.array (trainf)\n",
    "print (f'test feature size =>{trainf.shape}')\n",
    "testf = [get_centroid(img)  for img in xtest]\n",
    "testf = np.array (testf)\n",
    "print(f'test feature size =>{testf.shape}')"
   ]
  },
  {
   "cell_type": "markdown",
   "metadata": {},
   "source": [
    "### Fitting feature using KNeighborsClassifier using ecludian distance then predict using Accuracy metric "
   ]
  },
  {
   "cell_type": "code",
   "execution_count": 76,
   "metadata": {},
   "outputs": [],
   "source": [
    "model = KNeighborsClassifier(4 , metric = 'euclidean')\n",
    "model.fit (trainf , y_train)\n",
    "ypred = model.predict(testf)"
   ]
  },
  {
   "cell_type": "code",
   "execution_count": 77,
   "metadata": {},
   "outputs": [
    {
     "name": "stdout",
     "output_type": "stream",
     "text": [
      "accuracy= 0.855\n"
     ]
    }
   ],
   "source": [
    "print(\"accuracy=\", accuracy_score(y_test, ypred) )"
   ]
  },
  {
   "cell_type": "code",
   "execution_count": null,
   "metadata": {},
   "outputs": [],
   "source": []
  }
 ],
 "metadata": {
  "kernelspec": {
   "display_name": "Python 3",
   "language": "python",
   "name": "python3"
  },
  "language_info": {
   "codemirror_mode": {
    "name": "ipython",
    "version": 3
   },
   "file_extension": ".py",
   "mimetype": "text/x-python",
   "name": "python",
   "nbconvert_exporter": "python",
   "pygments_lexer": "ipython3",
   "version": "3.7.6"
  }
 },
 "nbformat": 4,
 "nbformat_minor": 4
}
