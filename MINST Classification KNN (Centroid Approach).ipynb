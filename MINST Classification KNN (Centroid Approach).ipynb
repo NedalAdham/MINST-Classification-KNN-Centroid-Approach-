{
 "cells": [
  {
   "cell_type": "markdown",
   "metadata": {},
   "source": [
    "# MINST Classification KNN (Centroid Approach)"
   ]
  },
  {
   "cell_type": "markdown",
   "metadata": {},
   "source": [
    "- this notebook will use MINST dataset of handwritten digIts from one to 9 \n",
    "- we will use only 10000 data-point for training and 1000 data-point for test as asked"
   ]
  },
  {
   "cell_type": "markdown",
   "metadata": {},
   "source": [
    "#### Essintial imports "
   ]
  },
  {
   "cell_type": "code",
   "execution_count": 1,
   "metadata": {},
   "outputs": [
    {
     "name": "stdout",
     "output_type": "stream",
     "text": [
      "1.15.0\n",
      "2.2.4-tf\n"
     ]
    }
   ],
   "source": [
    "import tensorflow as tf\n",
    "from tensorflow import keras \n",
    "import numpy as np\n",
    "import pandas as pd\n",
    "%matplotlib inline\n",
    "from itertools import product\n",
    "from IPython.display import display, clear_output\n",
    "from itertools import combinations ,combinations_with_replacement\n",
    "from sklearn.neighbors import KNeighborsClassifier\n",
    "from sklearn.metrics import accuracy_score\n",
    "import matplotlib.pyplot as plt\n",
    "from collections import namedtuple, OrderedDict\n",
    "print(tf.__version__)\n",
    "print(keras.__version__)\n"
   ]
  },
  {
   "cell_type": "markdown",
   "metadata": {},
   "source": [
    "#### importing preprocessed data from keras  "
   ]
  },
  {
   "cell_type": "code",
   "execution_count": 2,
   "metadata": {},
   "outputs": [
    {
     "name": "stderr",
     "output_type": "stream",
     "text": [
      "Using TensorFlow backend.\n"
     ]
    }
   ],
   "source": [
    "from keras.datasets import mnist \n",
    "(xtrain , y_train) , (xtest,y_test) = mnist.load_data()"
   ]
  },
  {
   "cell_type": "code",
   "execution_count": 3,
   "metadata": {},
   "outputs": [
    {
     "name": "stdout",
     "output_type": "stream",
     "text": [
      "Train samples: (60000, 28, 28) (60000,)\n",
      "Test samples: (10000, 28, 28) (10000,)\n"
     ]
    }
   ],
   "source": [
    "print(\"Train samples:\", xtrain.shape, y_train.shape)\n",
    "print(\"Test samples:\", xtest.shape, y_test.shape)"
   ]
  },
  {
   "cell_type": "markdown",
   "metadata": {},
   "source": [
    "##### taking small portion as asked "
   ]
  },
  {
   "cell_type": "code",
   "execution_count": 4,
   "metadata": {},
   "outputs": [],
   "source": [
    "xtrain=xtrain[50000:]\n",
    "y_train=y_train[50000:]\n",
    "xtest=xtest[9000:]\n",
    "y_test=y_test[9000:]"
   ]
  },
  {
   "cell_type": "code",
   "execution_count": 5,
   "metadata": {
    "scrolled": true
   },
   "outputs": [
    {
     "name": "stdout",
     "output_type": "stream",
     "text": [
      "Train samples: (10000, 28, 28) (10000,)\n",
      "Test samples: (1000, 28, 28) (1000,)\n"
     ]
    }
   ],
   "source": [
    "print(\"Train samples:\", xtrain.shape, y_train.shape)\n",
    "print(\"Test samples:\", xtest.shape, y_test.shape)"
   ]
  },
  {
   "cell_type": "markdown",
   "metadata": {},
   "source": [
    "##### plotting digits in grey scale just for illustration "
   ]
  },
  {
   "cell_type": "code",
   "execution_count": 6,
   "metadata": {
    "scrolled": true
   },
   "outputs": [
    {
     "name": "stdout",
     "output_type": "stream",
     "text": [
      "4\n",
      "8\n",
      "9\n",
      "6\n",
      "2\n",
      "8\n",
      "1\n",
      "1\n",
      "1\n",
      "6\n"
     ]
    },
    {
     "data": {
      "image/png": "[encoded data removed]",
      "text/plain": [
       "<Figure size 720x360 with 10 Axes>"
      ]
     },
     "metadata": {
      "needs_background": "light"
     },
     "output_type": "display_data"
    }
   ],
   "source": [
    "cols = 5\n",
    "rows = 2\n",
    "fig = plt.figure(figsize=(2 * cols , 3 * rows - 1))\n",
    "for i in range(cols):\n",
    "    for j in range(rows):\n",
    "        random_index = np.random.randint(0, 1000)\n",
    "        ax = fig.add_subplot(rows, cols, i * rows + j + 1)\n",
    "        ax.grid('off')\n",
    "        ax.axis('off')\n",
    "        ax.imshow(xtrain[random_index, :] ,cmap='gray')\n",
    "        print(y_train[random_index])\n",
    "        \n",
    "plt.show()"
   ]
  },
  {
   "cell_type": "markdown",
   "metadata": {},
   "source": [
    "#### Imaged_grid is function that slice the photo into certain amount of grids "
   ]
  },
  {
   "cell_type": "code",
   "execution_count": 8,
   "metadata": {},
   "outputs": [],
   "source": [
    "\n",
    "def imaged_grid(img , row , col ):\n",
    "    x , y = img.shape\n",
    "    return (img.reshape ( x //row, row, -1, col).swapaxes(1,2).reshape(-1, row, col))"
   ]
  },
  {
   "cell_type": "code",
   "execution_count": 9,
   "metadata": {},
   "outputs": [
    {
     "name": "stdout",
     "output_type": "stream",
     "text": [
      "(49, 4, 4)\n"
     ]
    },
    {
     "data": {
      "text/plain": [
       "array([[[  0,   0,   0,   0],\n",
       "        [  0,   0,   0,   0],\n",
       "        [  0,   0,   0,   0],\n",
       "        [  0,   0,   0,   0]],\n",
       "\n",
       "       [[  0,   0,   0,   0],\n",
       "        [  0,   0,   0,   0],\n",
       "        [  0,   0,   0,   0],\n",
       "        [  0,   0,   0,   0]],\n",
       "\n",
       "       [[  0,   0,   0,   0],\n",
       "        [  0,   0,   0,   0],\n",
       "        [  0,   0,   0,   0],\n",
       "        [  0,   0,   0,   0]],\n",
       "\n",
       "       [[  0,   0,   0,   0],\n",
       "        [  0,   0,   0,   0],\n",
       "        [  0,   0,   0,   0],\n",
       "        [  0,   0,   0,   0]],\n",
       "\n",
       "       [[  0,   0,   0,   0],\n",
       "        [  0,   0,   0,   0],\n",
       "        [  0,   0,   0,   0],\n",
       "        [  0,   0,   0,   0]],\n",
       "\n",
       "       [[  0,   0,   0,   0],\n",
       "        [  0,   0,   0,   0],\n",
       "        [  0,   0,   0,   0],\n",
       "        [  0,   0,   0,   0]],\n",
       "\n",
       "       [[  0,   0,   0,   0],\n",
       "        [  0,   0,   0,   0],\n",
       "        [  0,   0,   0,   0],\n",
       "        [  0,   0,   0,   0]],\n",
       "\n",
       "       [[  0,   0,   0,   0],\n",
       "        [  0,   0,   0,   0],\n",
       "        [  0,   0,   0,   0],\n",
       "        [  0,   0,   0,   0]],\n",
       "\n",
       "       [[  0,   0,   0,   0],\n",
       "        [  0,   0,   0,   0],\n",
       "        [  0,   0,   0,   0],\n",
       "        [  0,   0,   0,   0]],\n",
       "\n",
       "       [[  0,   0,   0,   0],\n",
       "        [  0,   0,   0,   0],\n",
       "        [  0,   0,   0,   0],\n",
       "        [  0,   0,   0,   0]],\n",
       "\n",
       "       [[  0,   0,   0,   0],\n",
       "        [  0,   0,   0,   0],\n",
       "        [  0,   0,   0,   0],\n",
       "        [  0,   0,   0,   0]],\n",
       "\n",
       "       [[  0,   0,   0,   0],\n",
       "        [  0,   0,  17,  80],\n",
       "        [  0,   0,  53, 253],\n",
       "        [  0,  37, 223, 253]],\n",
       "\n",
       "       [[  0,   0,   0,   0],\n",
       "        [104, 255, 242,  49],\n",
       "        [253, 253, 253, 156],\n",
       "        [253, 253, 248, 119]],\n",
       "\n",
       "       [[  0,   0,   0,   0],\n",
       "        [  0,   0,   0,   0],\n",
       "        [  0,   0,   0,   0],\n",
       "        [  0,   0,   0,   0]],\n",
       "\n",
       "       [[  0,   0,   0,   0],\n",
       "        [  0,   0,   0,   0],\n",
       "        [  0,   0,   0,   0],\n",
       "        [  0,   0,   0,   0]],\n",
       "\n",
       "       [[  0,   0,   0,   0],\n",
       "        [  0,   0,   0,   0],\n",
       "        [  0,   0,   0,   0],\n",
       "        [  0,   0,   0,   0]],\n",
       "\n",
       "       [[  0,   0,   0,   0],\n",
       "        [  0,   0,   0,   0],\n",
       "        [  0,   0,   0,   0],\n",
       "        [  0,   0,   0,   0]],\n",
       "\n",
       "       [[  0,   0,   0,   0],\n",
       "        [  0,   0,   0,  30],\n",
       "        [  0,   0,  43, 208],\n",
       "        [  0,   1, 106, 253]],\n",
       "\n",
       "       [[ 40, 207, 253, 253],\n",
       "        [224, 253, 253, 253],\n",
       "        [253, 253, 253, 253],\n",
       "        [253, 253, 253, 239]],\n",
       "\n",
       "       [[253, 253, 137,   0],\n",
       "        [253, 233,  50,   0],\n",
       "        [236,  72,   0,   0],\n",
       "        [ 74,   0,   0,   0]],\n",
       "\n",
       "       [[  0,   0,   0,   0],\n",
       "        [  0,   0,   0,   0],\n",
       "        [  0,   0,   0,   0],\n",
       "        [  0,   0,   0,   0]],\n",
       "\n",
       "       [[  0,   0,   0,   0],\n",
       "        [  0,   0,   0,   0],\n",
       "        [  0,   0,   0,   0],\n",
       "        [  0,   0,   0,   0]],\n",
       "\n",
       "       [[  0,   0,   0,   0],\n",
       "        [  0,   0,   0,   0],\n",
       "        [  0,   0,   0,   0],\n",
       "        [  0,   0,   0,   0]],\n",
       "\n",
       "       [[  0,   0,   0,   0],\n",
       "        [  0,   0,   0,   1],\n",
       "        [  0,   0,   0,  88],\n",
       "        [  0,   0,  82, 235]],\n",
       "\n",
       "       [[ 44, 111, 253, 253],\n",
       "        [111, 253, 253, 253],\n",
       "        [253, 253, 253, 253],\n",
       "        [253, 253, 253, 253]],\n",
       "\n",
       "       [[253, 253, 231,  71],\n",
       "        [253, 248,  72,   0],\n",
       "        [228,  68,   0,   0],\n",
       "        [182,   0,   0,   0]],\n",
       "\n",
       "       [[  0,   0,   0,   0],\n",
       "        [  0,   0,   0,   0],\n",
       "        [  0,   0,   0,   0],\n",
       "        [  0,   0,   0,   0]],\n",
       "\n",
       "       [[  0,   0,   0,   0],\n",
       "        [  0,   0,   0,   0],\n",
       "        [  0,   0,   0,   0],\n",
       "        [  0,   0,   0,   0]],\n",
       "\n",
       "       [[  0,   0,   0,   0],\n",
       "        [  0,   0,   0,   0],\n",
       "        [  0,   0,   0,   0],\n",
       "        [  0,   0,   0,   0]],\n",
       "\n",
       "       [[  0,   0,   0,   0],\n",
       "        [  0,   0,   0,   0],\n",
       "        [  0,   0,   0,   0],\n",
       "        [  0,   0,   0,   0]],\n",
       "\n",
       "       [[  0,  13, 159, 253],\n",
       "        [ 84, 167, 253, 253],\n",
       "        [140, 253, 253, 253],\n",
       "        [140, 253, 253, 253]],\n",
       "\n",
       "       [[253, 253, 228,  67],\n",
       "        [253, 248,  68,   0],\n",
       "        [253, 207,   0,   0],\n",
       "        [198,  33,   0,   0]],\n",
       "\n",
       "       [[  6,   0,   0,   0],\n",
       "        [  0,   0,   0,   0],\n",
       "        [  0,   0,   0,   0],\n",
       "        [  0,   0,   0,   0]],\n",
       "\n",
       "       [[  0,   0,   0,   0],\n",
       "        [  0,   0,   0,   0],\n",
       "        [  0,   0,   0,   0],\n",
       "        [  0,   0,   0,   0]],\n",
       "\n",
       "       [[  0,   0,   0,   0],\n",
       "        [  0,   0,   0,   0],\n",
       "        [  0,   0,   0,   0],\n",
       "        [  0,   0,   0,   0]],\n",
       "\n",
       "       [[  0,   0,   0,   0],\n",
       "        [  0,   0,   0,   0],\n",
       "        [  0,   0,   0,   0],\n",
       "        [  0,   0,   0,   0]],\n",
       "\n",
       "       [[  0,   0,   0, 197],\n",
       "        [  0,   0,   0, 237],\n",
       "        [  0,   6, 128, 249],\n",
       "        [  0,  80, 253, 253]],\n",
       "\n",
       "       [[234, 253, 253, 231],\n",
       "        [253, 253, 197, 125],\n",
       "        [253, 250, 122,   0],\n",
       "        [253, 142,   0,   0]],\n",
       "\n",
       "       [[ 25,   0,   0,   0],\n",
       "        [  0,   0,   0,   0],\n",
       "        [  0,   0,   0,   0],\n",
       "        [  0,   0,   0,   0]],\n",
       "\n",
       "       [[  0,   0,   0,   0],\n",
       "        [  0,   0,   0,   0],\n",
       "        [  0,   0,   0,   0],\n",
       "        [  0,   0,   0,   0]],\n",
       "\n",
       "       [[  0,   0,   0,   0],\n",
       "        [  0,   0,   0,   0],\n",
       "        [  0,   0,   0,   0],\n",
       "        [  0,   0,   0,   0]],\n",
       "\n",
       "       [[  0,   0,   0,   0],\n",
       "        [  0,   0,   0,   0],\n",
       "        [  0,   0,   0,   0],\n",
       "        [  0,   0,   0,   0]],\n",
       "\n",
       "       [[  0,   0,   0,   0],\n",
       "        [  0,   0,   0,   0],\n",
       "        [  0,   0,   0,   0],\n",
       "        [  0,   0,   0,   0]],\n",
       "\n",
       "       [[  0,  25, 187, 253],\n",
       "        [  0,   0,   0,   0],\n",
       "        [  0,   0,   0,   0],\n",
       "        [  0,   0,   0,   0]],\n",
       "\n",
       "       [[253,  34,   0,   0],\n",
       "        [  0,   0,   0,   0],\n",
       "        [  0,   0,   0,   0],\n",
       "        [  0,   0,   0,   0]],\n",
       "\n",
       "       [[  0,   0,   0,   0],\n",
       "        [  0,   0,   0,   0],\n",
       "        [  0,   0,   0,   0],\n",
       "        [  0,   0,   0,   0]],\n",
       "\n",
       "       [[  0,   0,   0,   0],\n",
       "        [  0,   0,   0,   0],\n",
       "        [  0,   0,   0,   0],\n",
       "        [  0,   0,   0,   0]],\n",
       "\n",
       "       [[  0,   0,   0,   0],\n",
       "        [  0,   0,   0,   0],\n",
       "        [  0,   0,   0,   0],\n",
       "        [  0,   0,   0,   0]],\n",
       "\n",
       "       [[  0,   0,   0,   0],\n",
       "        [  0,   0,   0,   0],\n",
       "        [  0,   0,   0,   0],\n",
       "        [  0,   0,   0,   0]]], dtype=uint8)"
      ]
     },
     "execution_count": 9,
     "metadata": {},
     "output_type": "execute_result"
    },
    {
     "data": {
      "image/png": "[encoded data removed]",
      "text/plain": [
       "<Figure size 144x144 with 1 Axes>"
      ]
     },
     "metadata": {
      "needs_background": "light"
     },
     "output_type": "display_data"
    }
   ],
   "source": [
    "fig = plt.figure(figsize=(2  , 2))\n",
    "ax = fig.add_subplot(1, 1, 1)\n",
    "#ax.imshow(xtest[8] ,cmap='gray')\n",
    "print(imaged_grid(xtest[4] , 4 , 4 ).shape)\n",
    "imaged_grid(xtest[5] , 4 , 4 )"
   ]
  },
  {
   "cell_type": "markdown",
   "metadata": {},
   "source": [
    "\n",
    "\n",
    "\n",
    "#### Get the centroid (centet of mass of grey scale) of each slice (grid) made"
   ]
  },
  {
   "cell_type": "code",
   "execution_count": 10,
   "metadata": {},
   "outputs": [],
   "source": [
    "def get_centroid(img ,L):\n",
    "    feature = []\n",
    "    for grid in imaged_grid(img , L[0] , L[1] ) :\n",
    "        X = 0 \n",
    "        Y = 0 \n",
    "        s = 0\n",
    "        for index, bit in np.ndenumerate(grid):\n",
    "          s+= bit\n",
    "          X += bit * index[0]\n",
    "          Y += bit * index[1]  \n",
    "        if s != 0 :\n",
    "            feature.append( X/ s )\n",
    "            feature.append(Y/ s )\n",
    "        else :\n",
    "             feature.append(0)\n",
    "             feature.append(0)\n",
    "    return np.array(feature)"
   ]
  },
  {
   "cell_type": "markdown",
   "metadata": {},
   "source": [
    "\n",
    "#### extracting train and test features using previous funcution "
   ]
  },
  {
   "cell_type": "code",
   "execution_count": null,
   "metadata": {},
   "outputs": [],
   "source": []
  },
  {
   "cell_type": "code",
   "execution_count": 12,
   "metadata": {},
   "outputs": [
    {
     "name": "stdout",
     "output_type": "stream",
     "text": [
      "train feature size =>(10000, 32)\n",
      "test feature size =>(1000, 32)\n"
     ]
    }
   ],
   "source": [
    "l = [14,24]\n",
    "trainf = [get_centroid(img,l)  for img in xtrain ]\n",
    "trainf = np.array (trainf)\n",
    "print (f'train feature size =>{trainf.shape}')\n",
    "testf = [get_centroid(img,l)  for img in xtest]\n",
    "testf = np.array (testf)\n",
    "print(f'test feature size =>{testf.shape}')"
   ]
  },
  {
   "cell_type": "markdown",
   "metadata": {},
   "source": [
    "### Fitting feature using KNeighborsClassifier using ecludian distance then predict using Accuracy metric "
   ]
  },
  {
   "cell_type": "code",
   "execution_count": 13,
   "metadata": {},
   "outputs": [],
   "source": [
    "model = KNeighborsClassifier(4 , metric = 'euclidean')\n",
    "model.fit (trainf , y_train)\n",
    "ypred = model.predict(testf)"
   ]
  },
  {
   "cell_type": "code",
   "execution_count": 14,
   "metadata": {},
   "outputs": [
    {
     "name": "stdout",
     "output_type": "stream",
     "text": [
      "accuracy= 0.855\n"
     ]
    }
   ],
   "source": [
    "print(\"accuracy=\", accuracy_score(y_test, ypred) )"
   ]
  },
  {
   "cell_type": "markdown",
   "metadata": {},
   "source": [
    "### More hyperparameter tuning  "
   ]
  },
  {
   "cell_type": "code",
   "execution_count": 15,
   "metadata": {},
   "outputs": [
    {
     "data": {
      "text/plain": [
       "[[4, 4], [4, 7], [4, 14], [7, 7], [7, 14], [14, 14]]"
      ]
     },
     "execution_count": 15,
     "metadata": {},
     "output_type": "execute_result"
    }
   ],
   "source": [
    "A = [4, 7, 14 ]\n",
    "l = []\n",
    "temp = combinations_with_replacement(A,2)\n",
    "for i in list(temp):\n",
    "    l.append(np.array(i).tolist())  \n",
    "l\n",
    "    "
   ]
  },
  {
   "cell_type": "code",
   "execution_count": 16,
   "metadata": {},
   "outputs": [],
   "source": [
    "class RunBuilder ():\n",
    "    @staticmethod\n",
    "    def get_runs(params):\n",
    "        Run = namedtuple('Run' , params.keys())\n",
    "        \n",
    "        runs = []\n",
    "        \n",
    "        for v in product (*params.values()):\n",
    "            runs.append(Run(*v))\n",
    "            \n",
    "        return  runs"
   ]
  },
  {
   "cell_type": "code",
   "execution_count": 19,
   "metadata": {},
   "outputs": [
    {
     "data": {
      "text/plain": [
       "24"
      ]
     },
     "metadata": {},
     "output_type": "display_data"
    },
    {
     "data": {
      "text/plain": [
       "[Run(l=[4, 4], KNN=3),\n",
       " Run(l=[4, 4], KNN=4),\n",
       " Run(l=[4, 4], KNN=5),\n",
       " Run(l=[4, 4], KNN=7),\n",
       " Run(l=[4, 7], KNN=3),\n",
       " Run(l=[4, 7], KNN=4),\n",
       " Run(l=[4, 7], KNN=5),\n",
       " Run(l=[4, 7], KNN=7),\n",
       " Run(l=[4, 14], KNN=3),\n",
       " Run(l=[4, 14], KNN=4),\n",
       " Run(l=[4, 14], KNN=5),\n",
       " Run(l=[4, 14], KNN=7),\n",
       " Run(l=[7, 7], KNN=3),\n",
       " Run(l=[7, 7], KNN=4),\n",
       " Run(l=[7, 7], KNN=5),\n",
       " Run(l=[7, 7], KNN=7),\n",
       " Run(l=[7, 14], KNN=3),\n",
       " Run(l=[7, 14], KNN=4),\n",
       " Run(l=[7, 14], KNN=5),\n",
       " Run(l=[7, 14], KNN=7),\n",
       " Run(l=[14, 14], KNN=3),\n",
       " Run(l=[14, 14], KNN=4),\n",
       " Run(l=[14, 14], KNN=5),\n",
       " Run(l=[14, 14], KNN=7)]"
      ]
     },
     "metadata": {},
     "output_type": "display_data"
    }
   ],
   "source": [
    "Params = dict(\n",
    "    l = [[4, 4], [4, 7], [4, 14], [7, 7], [7, 14], [14, 14]],\n",
    "    KNN = [3,4,5,7]\n",
    ")\n",
    "\n",
    "runs =RunBuilder.get_runs(Params)\n",
    "display( len(runs) , runs)\n"
   ]
  },
  {
   "cell_type": "code",
   "execution_count": 18,
   "metadata": {},
   "outputs": [
    {
     "data": {
      "text/html": [
       "<div>\n",
       "<style scoped>\n",
       "    .dataframe tbody tr th:only-of-type {\n",
       "        vertical-align: middle;\n",
       "    }\n",
       "\n",
       "    .dataframe tbody tr th {\n",
       "        vertical-align: top;\n",
       "    }\n",
       "\n",
       "    .dataframe thead th {\n",
       "        text-align: right;\n",
       "    }\n",
       "</style>\n",
       "<table border=\"1\" class=\"dataframe\">\n",
       "  <thead>\n",
       "    <tr style=\"text-align: right;\">\n",
       "      <th></th>\n",
       "      <th>run</th>\n",
       "      <th>accuracy</th>\n",
       "      <th>Image_Grid_X</th>\n",
       "      <th>Image_Grid_Y</th>\n",
       "      <th>n_neighbor</th>\n",
       "    </tr>\n",
       "  </thead>\n",
       "  <tbody>\n",
       "    <tr>\n",
       "      <th>0</th>\n",
       "      <td>0</td>\n",
       "      <td>86.5</td>\n",
       "      <td>4</td>\n",
       "      <td>4</td>\n",
       "      <td>3</td>\n",
       "    </tr>\n",
       "    <tr>\n",
       "      <th>1</th>\n",
       "      <td>1</td>\n",
       "      <td>86.6</td>\n",
       "      <td>4</td>\n",
       "      <td>4</td>\n",
       "      <td>4</td>\n",
       "    </tr>\n",
       "    <tr>\n",
       "      <th>2</th>\n",
       "      <td>2</td>\n",
       "      <td>86.8</td>\n",
       "      <td>4</td>\n",
       "      <td>4</td>\n",
       "      <td>5</td>\n",
       "    </tr>\n",
       "    <tr>\n",
       "      <th>3</th>\n",
       "      <td>3</td>\n",
       "      <td>86.6</td>\n",
       "      <td>4</td>\n",
       "      <td>4</td>\n",
       "      <td>7</td>\n",
       "    </tr>\n",
       "    <tr>\n",
       "      <th>4</th>\n",
       "      <td>4</td>\n",
       "      <td>86.4</td>\n",
       "      <td>4</td>\n",
       "      <td>7</td>\n",
       "      <td>3</td>\n",
       "    </tr>\n",
       "    <tr>\n",
       "      <th>5</th>\n",
       "      <td>5</td>\n",
       "      <td>85.9</td>\n",
       "      <td>4</td>\n",
       "      <td>7</td>\n",
       "      <td>4</td>\n",
       "    </tr>\n",
       "    <tr>\n",
       "      <th>6</th>\n",
       "      <td>6</td>\n",
       "      <td>86.3</td>\n",
       "      <td>4</td>\n",
       "      <td>7</td>\n",
       "      <td>5</td>\n",
       "    </tr>\n",
       "    <tr>\n",
       "      <th>7</th>\n",
       "      <td>7</td>\n",
       "      <td>84.6</td>\n",
       "      <td>4</td>\n",
       "      <td>7</td>\n",
       "      <td>7</td>\n",
       "    </tr>\n",
       "    <tr>\n",
       "      <th>8</th>\n",
       "      <td>8</td>\n",
       "      <td>89.6</td>\n",
       "      <td>4</td>\n",
       "      <td>14</td>\n",
       "      <td>3</td>\n",
       "    </tr>\n",
       "    <tr>\n",
       "      <th>9</th>\n",
       "      <td>9</td>\n",
       "      <td>89.2</td>\n",
       "      <td>4</td>\n",
       "      <td>14</td>\n",
       "      <td>4</td>\n",
       "    </tr>\n",
       "    <tr>\n",
       "      <th>10</th>\n",
       "      <td>10</td>\n",
       "      <td>88.8</td>\n",
       "      <td>4</td>\n",
       "      <td>14</td>\n",
       "      <td>5</td>\n",
       "    </tr>\n",
       "    <tr>\n",
       "      <th>11</th>\n",
       "      <td>11</td>\n",
       "      <td>88.6</td>\n",
       "      <td>4</td>\n",
       "      <td>14</td>\n",
       "      <td>7</td>\n",
       "    </tr>\n",
       "    <tr>\n",
       "      <th>12</th>\n",
       "      <td>12</td>\n",
       "      <td>86.5</td>\n",
       "      <td>7</td>\n",
       "      <td>7</td>\n",
       "      <td>3</td>\n",
       "    </tr>\n",
       "    <tr>\n",
       "      <th>13</th>\n",
       "      <td>13</td>\n",
       "      <td>85.5</td>\n",
       "      <td>7</td>\n",
       "      <td>7</td>\n",
       "      <td>4</td>\n",
       "    </tr>\n",
       "    <tr>\n",
       "      <th>14</th>\n",
       "      <td>14</td>\n",
       "      <td>86.2</td>\n",
       "      <td>7</td>\n",
       "      <td>7</td>\n",
       "      <td>5</td>\n",
       "    </tr>\n",
       "    <tr>\n",
       "      <th>15</th>\n",
       "      <td>15</td>\n",
       "      <td>85.0</td>\n",
       "      <td>7</td>\n",
       "      <td>7</td>\n",
       "      <td>7</td>\n",
       "    </tr>\n",
       "    <tr>\n",
       "      <th>16</th>\n",
       "      <td>16</td>\n",
       "      <td>89.0</td>\n",
       "      <td>7</td>\n",
       "      <td>14</td>\n",
       "      <td>3</td>\n",
       "    </tr>\n",
       "    <tr>\n",
       "      <th>17</th>\n",
       "      <td>17</td>\n",
       "      <td>89.6</td>\n",
       "      <td>7</td>\n",
       "      <td>14</td>\n",
       "      <td>4</td>\n",
       "    </tr>\n",
       "    <tr>\n",
       "      <th>18</th>\n",
       "      <td>18</td>\n",
       "      <td>89.4</td>\n",
       "      <td>7</td>\n",
       "      <td>14</td>\n",
       "      <td>5</td>\n",
       "    </tr>\n",
       "    <tr>\n",
       "      <th>19</th>\n",
       "      <td>19</td>\n",
       "      <td>88.7</td>\n",
       "      <td>7</td>\n",
       "      <td>14</td>\n",
       "      <td>7</td>\n",
       "    </tr>\n",
       "    <tr>\n",
       "      <th>20</th>\n",
       "      <td>20</td>\n",
       "      <td>83.3</td>\n",
       "      <td>14</td>\n",
       "      <td>14</td>\n",
       "      <td>3</td>\n",
       "    </tr>\n",
       "    <tr>\n",
       "      <th>21</th>\n",
       "      <td>21</td>\n",
       "      <td>83.4</td>\n",
       "      <td>14</td>\n",
       "      <td>14</td>\n",
       "      <td>4</td>\n",
       "    </tr>\n",
       "    <tr>\n",
       "      <th>22</th>\n",
       "      <td>22</td>\n",
       "      <td>83.8</td>\n",
       "      <td>14</td>\n",
       "      <td>14</td>\n",
       "      <td>5</td>\n",
       "    </tr>\n",
       "    <tr>\n",
       "      <th>23</th>\n",
       "      <td>23</td>\n",
       "      <td>83.6</td>\n",
       "      <td>14</td>\n",
       "      <td>14</td>\n",
       "      <td>7</td>\n",
       "    </tr>\n",
       "  </tbody>\n",
       "</table>\n",
       "</div>"
      ],
      "text/plain": [
       "   run  accuracy Image_Grid_X Image_Grid_Y n_neighbor\n",
       "0    0      86.5            4            4          3\n",
       "1    1      86.6            4            4          4\n",
       "2    2      86.8            4            4          5\n",
       "3    3      86.6            4            4          7\n",
       "4    4      86.4            4            7          3\n",
       "5    5      85.9            4            7          4\n",
       "6    6      86.3            4            7          5\n",
       "7    7      84.6            4            7          7\n",
       "8    8      89.6            4           14          3\n",
       "9    9      89.2            4           14          4\n",
       "10  10      88.8            4           14          5\n",
       "11  11      88.6            4           14          7\n",
       "12  12      86.5            7            7          3\n",
       "13  13      85.5            7            7          4\n",
       "14  14      86.2            7            7          5\n",
       "15  15      85.0            7            7          7\n",
       "16  16      89.0            7           14          3\n",
       "17  17      89.6            7           14          4\n",
       "18  18      89.4            7           14          5\n",
       "19  19      88.7            7           14          7\n",
       "20  20      83.3           14           14          3\n",
       "21  21      83.4           14           14          4\n",
       "22  22      83.8           14           14          5\n",
       "23  23      83.6           14           14          7"
      ]
     },
     "metadata": {},
     "output_type": "display_data"
    }
   ],
   "source": [
    "\n",
    "for i in range (len(runs)):\n",
    "    run = runs[i]\n",
    "    \n",
    "    trainf = [get_centroid(img , run.l)  for img in xtrain ]\n",
    "    trainf = np.array (trainf)\n",
    "    testf = [get_centroid(img , run.l)  for img in xtest]\n",
    "    testf = np.array (testf)\n",
    "\n",
    "    \n",
    "    model = KNeighborsClassifier(run.KNN , metric = 'euclidean')\n",
    "    model.fit (trainf , y_train)\n",
    "    ypred = model.predict(testf)\n",
    "\n",
    "    if i == 0:\n",
    "        df = pd.DataFrame(columns = ['run', 'accuracy' , 'Image_Grid_X' , 'Image_Grid_Y' , 'n_neighbor'])\n",
    "    run_params = []\n",
    "    results = OrderedDict()\n",
    "    results[\"run\"] = i\n",
    "    results[\"accuracy\"] = accuracy_score(y_test, ypred) * 100\n",
    "    results['Image_Grid_X'] = run.l[0]\n",
    "    results['Image_Grid_Y'] = run.l[1]\n",
    "    results['n_neighbor'] = run.KNN\n",
    "    df = df .append([results] ,ignore_index = True)\n",
    "\n",
    "    clear_output(wait = True)\n",
    "    display(df)\n",
    "    "
   ]
  },
  {
   "cell_type": "code",
   "execution_count": 24,
   "metadata": {},
   "outputs": [
    {
     "data": {
      "text/html": [
       "<div>\n",
       "<style scoped>\n",
       "    .dataframe tbody tr th:only-of-type {\n",
       "        vertical-align: middle;\n",
       "    }\n",
       "\n",
       "    .dataframe tbody tr th {\n",
       "        vertical-align: top;\n",
       "    }\n",
       "\n",
       "    .dataframe thead th {\n",
       "        text-align: right;\n",
       "    }\n",
       "</style>\n",
       "<table border=\"1\" class=\"dataframe\">\n",
       "  <thead>\n",
       "    <tr style=\"text-align: right;\">\n",
       "      <th></th>\n",
       "      <th>run</th>\n",
       "      <th>accuracy</th>\n",
       "      <th>Image_Grid_X</th>\n",
       "      <th>Image_Grid_Y</th>\n",
       "      <th>n_neighbor</th>\n",
       "    </tr>\n",
       "  </thead>\n",
       "  <tbody>\n",
       "    <tr>\n",
       "      <th>17</th>\n",
       "      <td>17</td>\n",
       "      <td>89.6</td>\n",
       "      <td>7</td>\n",
       "      <td>14</td>\n",
       "      <td>4</td>\n",
       "    </tr>\n",
       "    <tr>\n",
       "      <th>8</th>\n",
       "      <td>8</td>\n",
       "      <td>89.6</td>\n",
       "      <td>4</td>\n",
       "      <td>14</td>\n",
       "      <td>3</td>\n",
       "    </tr>\n",
       "    <tr>\n",
       "      <th>18</th>\n",
       "      <td>18</td>\n",
       "      <td>89.4</td>\n",
       "      <td>7</td>\n",
       "      <td>14</td>\n",
       "      <td>5</td>\n",
       "    </tr>\n",
       "    <tr>\n",
       "      <th>9</th>\n",
       "      <td>9</td>\n",
       "      <td>89.2</td>\n",
       "      <td>4</td>\n",
       "      <td>14</td>\n",
       "      <td>4</td>\n",
       "    </tr>\n",
       "    <tr>\n",
       "      <th>16</th>\n",
       "      <td>16</td>\n",
       "      <td>89.0</td>\n",
       "      <td>7</td>\n",
       "      <td>14</td>\n",
       "      <td>3</td>\n",
       "    </tr>\n",
       "    <tr>\n",
       "      <th>10</th>\n",
       "      <td>10</td>\n",
       "      <td>88.8</td>\n",
       "      <td>4</td>\n",
       "      <td>14</td>\n",
       "      <td>5</td>\n",
       "    </tr>\n",
       "    <tr>\n",
       "      <th>19</th>\n",
       "      <td>19</td>\n",
       "      <td>88.7</td>\n",
       "      <td>7</td>\n",
       "      <td>14</td>\n",
       "      <td>7</td>\n",
       "    </tr>\n",
       "    <tr>\n",
       "      <th>11</th>\n",
       "      <td>11</td>\n",
       "      <td>88.6</td>\n",
       "      <td>4</td>\n",
       "      <td>14</td>\n",
       "      <td>7</td>\n",
       "    </tr>\n",
       "    <tr>\n",
       "      <th>2</th>\n",
       "      <td>2</td>\n",
       "      <td>86.8</td>\n",
       "      <td>4</td>\n",
       "      <td>4</td>\n",
       "      <td>5</td>\n",
       "    </tr>\n",
       "    <tr>\n",
       "      <th>1</th>\n",
       "      <td>1</td>\n",
       "      <td>86.6</td>\n",
       "      <td>4</td>\n",
       "      <td>4</td>\n",
       "      <td>4</td>\n",
       "    </tr>\n",
       "  </tbody>\n",
       "</table>\n",
       "</div>"
      ],
      "text/plain": [
       "   run  accuracy Image_Grid_X Image_Grid_Y n_neighbor\n",
       "17  17      89.6            7           14          4\n",
       "8    8      89.6            4           14          3\n",
       "18  18      89.4            7           14          5\n",
       "9    9      89.2            4           14          4\n",
       "16  16      89.0            7           14          3\n",
       "10  10      88.8            4           14          5\n",
       "19  19      88.7            7           14          7\n",
       "11  11      88.6            4           14          7\n",
       "2    2      86.8            4            4          5\n",
       "1    1      86.6            4            4          4"
      ]
     },
     "execution_count": 24,
     "metadata": {},
     "output_type": "execute_result"
    }
   ],
   "source": [
    "test = df.sort_values('accuracy', ascending=False)\n",
    "test.head(10)"
   ]
  },
  {
   "cell_type": "code",
   "execution_count": null,
   "metadata": {},
   "outputs": [],
   "source": []
  }
 ],
 "metadata": {
  "kernelspec": {
   "display_name": "Python 3",
   "language": "python",
   "name": "python3"
  },
  "language_info": {
   "codemirror_mode": {
    "name": "ipython",
    "version": 3
   },
   "file_extension": ".py",
   "mimetype": "text/x-python",
   "name": "python",
   "nbconvert_exporter": "python",
   "pygments_lexer": "ipython3",
   "version": "3.7.6"
  }
 },
 "nbformat": 4,
 "nbformat_minor": 4
}
